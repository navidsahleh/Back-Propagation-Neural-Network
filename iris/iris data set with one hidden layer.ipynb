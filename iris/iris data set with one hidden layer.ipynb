{
 "cells": [
  {
   "cell_type": "markdown",
   "metadata": {},
   "source": [
    "# Back Propagation Neural Network on Iris dataset"
   ]
  },
  {
   "cell_type": "markdown",
   "metadata": {},
   "source": [
    "### report no.1 Reza Sahle, Alireza Rajabi"
   ]
  },
  {
   "cell_type": "markdown",
   "metadata": {},
   "source": [
    "Backpropagation efficiently computes the gradient of the loss function with respect to the weights of the network for a single input-output example. This makes it feasible to use gradient methods for training multi-layer networks, updating weights to minimize loss; commonly one uses gradient descent or variants such as stochastic gradient descent"
   ]
  },
  {
   "cell_type": "markdown",
   "metadata": {},
   "source": [
    "here we have 150 samples that has labeled on four featuers,we used multi layer perceptrone and Back propagation learning role which help us to update our weights in each epochs to find the better acuuracy. to many epochs tends to overfitting, that in statistical we said low bias and high variance so we cant find a good model for test dataset, and low number of epochs mybe cant fit the model on our data and in other word it cause low variance and high bias, so we tried different number of epechs to find the best trade-off on bias and variance."
   ]
  },
  {
   "cell_type": "markdown",
   "metadata": {},
   "source": [
    "also we have other optimizing parameters such as learning rate (in our code shown as q) and momentum (shown as momen) and most of importance we have diffrent kinds of activation functions. ( here we uesd RelU, sigmoid and tanh)."
   ]
  },
  {
   "cell_type": "markdown",
   "metadata": {},
   "source": [
    "#### first of all we import some librarys:"
   ]
  },
  {
   "cell_type": "code",
   "execution_count": 1,
   "metadata": {},
   "outputs": [],
   "source": [
    "import pandas as pd\n",
    "import numpy as np\n",
    "import matplotlib.pyplot as plt"
   ]
  },
  {
   "cell_type": "markdown",
   "metadata": {},
   "source": [
    "#### since our lables in Iris datasets (species) was orderd, we shuffle them."
   ]
  },
  {
   "cell_type": "code",
   "execution_count": 2,
   "metadata": {},
   "outputs": [],
   "source": [
    "from sklearn.utils import shuffle"
   ]
  },
  {
   "cell_type": "code",
   "execution_count": 3,
   "metadata": {},
   "outputs": [],
   "source": [
    "%matplotlib inline"
   ]
  },
  {
   "cell_type": "code",
   "execution_count": 4,
   "metadata": {},
   "outputs": [],
   "source": [
    "df = pd.read_csv('Iris.csv')"
   ]
  },
  {
   "cell_type": "markdown",
   "metadata": {},
   "source": [
    "#### we do some normalization on our features in datasets:"
   ]
  },
  {
   "cell_type": "code",
   "execution_count": 5,
   "metadata": {},
   "outputs": [],
   "source": [
    "df_norm  = df[['SepalLengthCm','SepalWidthCm','PetalLengthCm','PetalWidthCm']].apply(lambda x: (x - x.min())/(x.max() - x.min()))"
   ]
  },
  {
   "cell_type": "markdown",
   "metadata": {},
   "source": [
    "#### in pandas library, we have a function called get_dummies that create dummy variables for categorical feature"
   ]
  },
  {
   "cell_type": "code",
   "execution_count": 6,
   "metadata": {},
   "outputs": [],
   "source": [
    "species= pd.get_dummies(df['Species'])"
   ]
  },
  {
   "cell_type": "code",
   "execution_count": 7,
   "metadata": {},
   "outputs": [],
   "source": [
    "df_norm = pd.concat([df_norm,species],axis=1)"
   ]
  },
  {
   "cell_type": "code",
   "execution_count": 8,
   "metadata": {
    "scrolled": true
   },
   "outputs": [
    {
     "data": {
      "text/html": [
       "<div>\n",
       "<style scoped>\n",
       "    .dataframe tbody tr th:only-of-type {\n",
       "        vertical-align: middle;\n",
       "    }\n",
       "\n",
       "    .dataframe tbody tr th {\n",
       "        vertical-align: top;\n",
       "    }\n",
       "\n",
       "    .dataframe thead th {\n",
       "        text-align: right;\n",
       "    }\n",
       "</style>\n",
       "<table border=\"1\" class=\"dataframe\">\n",
       "  <thead>\n",
       "    <tr style=\"text-align: right;\">\n",
       "      <th></th>\n",
       "      <th>SepalLengthCm</th>\n",
       "      <th>SepalWidthCm</th>\n",
       "      <th>PetalLengthCm</th>\n",
       "      <th>PetalWidthCm</th>\n",
       "      <th>Iris-setosa</th>\n",
       "      <th>Iris-versicolor</th>\n",
       "      <th>Iris-virginica</th>\n",
       "    </tr>\n",
       "  </thead>\n",
       "  <tbody>\n",
       "    <tr>\n",
       "      <th>0</th>\n",
       "      <td>0.222222</td>\n",
       "      <td>0.625000</td>\n",
       "      <td>0.067797</td>\n",
       "      <td>0.041667</td>\n",
       "      <td>1</td>\n",
       "      <td>0</td>\n",
       "      <td>0</td>\n",
       "    </tr>\n",
       "    <tr>\n",
       "      <th>1</th>\n",
       "      <td>0.166667</td>\n",
       "      <td>0.416667</td>\n",
       "      <td>0.067797</td>\n",
       "      <td>0.041667</td>\n",
       "      <td>1</td>\n",
       "      <td>0</td>\n",
       "      <td>0</td>\n",
       "    </tr>\n",
       "    <tr>\n",
       "      <th>2</th>\n",
       "      <td>0.111111</td>\n",
       "      <td>0.500000</td>\n",
       "      <td>0.050847</td>\n",
       "      <td>0.041667</td>\n",
       "      <td>1</td>\n",
       "      <td>0</td>\n",
       "      <td>0</td>\n",
       "    </tr>\n",
       "    <tr>\n",
       "      <th>3</th>\n",
       "      <td>0.083333</td>\n",
       "      <td>0.458333</td>\n",
       "      <td>0.084746</td>\n",
       "      <td>0.041667</td>\n",
       "      <td>1</td>\n",
       "      <td>0</td>\n",
       "      <td>0</td>\n",
       "    </tr>\n",
       "    <tr>\n",
       "      <th>4</th>\n",
       "      <td>0.194444</td>\n",
       "      <td>0.666667</td>\n",
       "      <td>0.067797</td>\n",
       "      <td>0.041667</td>\n",
       "      <td>1</td>\n",
       "      <td>0</td>\n",
       "      <td>0</td>\n",
       "    </tr>\n",
       "  </tbody>\n",
       "</table>\n",
       "</div>"
      ],
      "text/plain": [
       "   SepalLengthCm  SepalWidthCm  PetalLengthCm  PetalWidthCm  Iris-setosa  \\\n",
       "0       0.222222      0.625000       0.067797      0.041667            1   \n",
       "1       0.166667      0.416667       0.067797      0.041667            1   \n",
       "2       0.111111      0.500000       0.050847      0.041667            1   \n",
       "3       0.083333      0.458333       0.084746      0.041667            1   \n",
       "4       0.194444      0.666667       0.067797      0.041667            1   \n",
       "\n",
       "   Iris-versicolor  Iris-virginica  \n",
       "0                0               0  \n",
       "1                0               0  \n",
       "2                0               0  \n",
       "3                0               0  \n",
       "4                0               0  "
      ]
     },
     "execution_count": 8,
     "metadata": {},
     "output_type": "execute_result"
    }
   ],
   "source": [
    "df_norm.head()"
   ]
  },
  {
   "cell_type": "markdown",
   "metadata": {},
   "source": [
    "#### we convert our dataframe into a matrix:"
   ]
  },
  {
   "cell_type": "code",
   "execution_count": 9,
   "metadata": {},
   "outputs": [],
   "source": [
    "data=df_norm.values"
   ]
  },
  {
   "cell_type": "code",
   "execution_count": 10,
   "metadata": {},
   "outputs": [
    {
     "name": "stdout",
     "output_type": "stream",
     "text": [
      "[[0.38888889 0.33333333 0.52542373 ... 0.         1.         0.        ]\n",
      " [0.41666667 0.83333333 0.03389831 ... 1.         0.         0.        ]\n",
      " [0.66666667 0.54166667 0.79661017 ... 0.         0.         1.        ]\n",
      " ...\n",
      " [0.47222222 0.08333333 0.50847458 ... 0.         1.         0.        ]\n",
      " [0.36111111 0.20833333 0.49152542 ... 0.         1.         0.        ]\n",
      " [0.94444444 0.25       1.         ... 0.         0.         1.        ]]\n"
     ]
    }
   ],
   "source": [
    "data=shuffle(data)\n",
    "print(data)"
   ]
  },
  {
   "cell_type": "markdown",
   "metadata": {},
   "source": [
    "#### now we introduced our activation functions and their derivations:"
   ]
  },
  {
   "cell_type": "code",
   "execution_count": 11,
   "metadata": {},
   "outputs": [],
   "source": [
    "#activation function (sigmoid)\n",
    "def sigmoid(x):\n",
    "    return 1.0/(1.0+np.exp(-x))"
   ]
  },
  {
   "cell_type": "code",
   "execution_count": 12,
   "metadata": {},
   "outputs": [],
   "source": [
    "#derivation of activation function(sigmoid)\n",
    "def der_sigmoid(x):\n",
    "    return x * (1.0-x)"
   ]
  },
  {
   "cell_type": "code",
   "execution_count": 13,
   "metadata": {},
   "outputs": [],
   "source": [
    "#activation function\n",
    "def tanh(x):\n",
    "    return (np.exp(x)-np.exp(-x))/(np.exp(x)+np.exp(-x))"
   ]
  },
  {
   "cell_type": "code",
   "execution_count": 14,
   "metadata": {},
   "outputs": [],
   "source": [
    "def relu(X):\n",
    "    return np.maximum(0,X)"
   ]
  },
  {
   "cell_type": "code",
   "execution_count": 15,
   "metadata": {},
   "outputs": [],
   "source": [
    "def der_relu(X):\n",
    "    return np.where(X <= 0,0,1)"
   ]
  },
  {
   "cell_type": "markdown",
   "metadata": {},
   "source": [
    "#### we set 100 samples for our training set:"
   ]
  },
  {
   "cell_type": "code",
   "execution_count": 16,
   "metadata": {},
   "outputs": [
    {
     "data": {
      "text/plain": [
       "(100, 4)"
      ]
     },
     "execution_count": 16,
     "metadata": {},
     "output_type": "execute_result"
    }
   ],
   "source": [
    "#input layer\n",
    "X_train = data[:100,:4]\n",
    "#X_train=np.array([[5.1,3.5,1.4,0.2],\n",
    "#            [5.6,2.5,3.9,1.1],\n",
    "#            [5.9,3.0,5.1,1.8]])\n",
    "X_train.shape"
   ]
  },
  {
   "cell_type": "code",
   "execution_count": 17,
   "metadata": {},
   "outputs": [
    {
     "data": {
      "text/plain": [
       "(100, 3)"
      ]
     },
     "execution_count": 17,
     "metadata": {},
     "output_type": "execute_result"
    }
   ],
   "source": [
    "#output layer\n",
    "y_train = data[:100,4:]\n",
    "#y_train=np.array([[1,0,0],\n",
    "#            [0,1,0],\n",
    "#            [0,0,1]])\n",
    "y_train.shape"
   ]
  },
  {
   "cell_type": "markdown",
   "metadata": {},
   "source": [
    "#### and 50 samples for our validation set: "
   ]
  },
  {
   "cell_type": "code",
   "execution_count": 18,
   "metadata": {},
   "outputs": [
    {
     "data": {
      "text/plain": [
       "(50, 4)"
      ]
     },
     "execution_count": 18,
     "metadata": {},
     "output_type": "execute_result"
    }
   ],
   "source": [
    "X_test = data[100:,:4]\n",
    "#X_train=np.array([[5.1,3.5,1.4,0.2],\n",
    "#            [5.6,2.5,3.9,1.1],\n",
    "#            [5.9,3.0,5.1,1.8]])\n",
    "X_test.shape"
   ]
  },
  {
   "cell_type": "code",
   "execution_count": 19,
   "metadata": {},
   "outputs": [
    {
     "data": {
      "text/plain": [
       "(50, 3)"
      ]
     },
     "execution_count": 19,
     "metadata": {},
     "output_type": "execute_result"
    }
   ],
   "source": [
    "y_test = data[100:,4:]\n",
    "#y_train=np.array([[1,0,0],\n",
    "#            [0,1,0],\n",
    "#            [0,0,1]])\n",
    "y_test.shape"
   ]
  },
  {
   "cell_type": "code",
   "execution_count": 20,
   "metadata": {},
   "outputs": [],
   "source": [
    "np.random.seed()"
   ]
  },
  {
   "cell_type": "markdown",
   "metadata": {},
   "source": [
    "#### here we initilized our weights. the weights that we generate are in interval of [0,1] "
   ]
  },
  {
   "cell_type": "markdown",
   "metadata": {},
   "source": [
    "why [0,1] intervals? in sigmoid activation functionour out put will be in this interval, so we set initial wghits on this interval for some reason."
   ]
  },
  {
   "cell_type": "markdown",
   "metadata": {},
   "source": [
    "#### and also we peresents number of neurons here."
   ]
  },
  {
   "cell_type": "code",
   "execution_count": 21,
   "metadata": {},
   "outputs": [],
   "source": [
    "#weights for first and second layer\n",
    "w1_1 = np.random.uniform(0,1,(4,9))\n",
    "#w1_1= 2 * np.random.random((4,3)) -1"
   ]
  },
  {
   "cell_type": "code",
   "execution_count": 22,
   "metadata": {},
   "outputs": [],
   "source": [
    "wb1=np.random.uniform(0,1,(1,9))"
   ]
  },
  {
   "cell_type": "code",
   "execution_count": 23,
   "metadata": {},
   "outputs": [],
   "source": [
    "#weights for first and second layer\n",
    "w2_2 = np.random.uniform(0,1,(9,3))\n",
    "#w1_1= 2 * np.random.random((4,3)) -1"
   ]
  },
  {
   "cell_type": "code",
   "execution_count": 24,
   "metadata": {},
   "outputs": [],
   "source": [
    "wb2=np.random.uniform(0,1,(1,3))"
   ]
  },
  {
   "cell_type": "markdown",
   "metadata": {},
   "source": [
    "#### the momentum parameter will regularize the velocity of updating weights."
   ]
  },
  {
   "cell_type": "code",
   "execution_count": 54,
   "metadata": {},
   "outputs": [],
   "source": [
    "vel1=np.zeros_like(w1_1)"
   ]
  },
  {
   "cell_type": "code",
   "execution_count": 55,
   "metadata": {},
   "outputs": [],
   "source": [
    "vel2=np.zeros_like(w2_2)"
   ]
  },
  {
   "cell_type": "markdown",
   "metadata": {},
   "source": [
    "#### bias in every layer in theory should make the accuracy better, but here we reach the 93% accuracy without bias."
   ]
  },
  {
   "cell_type": "markdown",
   "metadata": {},
   "source": [
    "what is the bias? the intercept should help to set a better model."
   ]
  },
  {
   "cell_type": "code",
   "execution_count": 27,
   "metadata": {},
   "outputs": [],
   "source": [
    "b1=np.zeros((100,1))+1"
   ]
  },
  {
   "cell_type": "code",
   "execution_count": 28,
   "metadata": {},
   "outputs": [],
   "source": [
    "b2=np.zeros((100,1))+1"
   ]
  },
  {
   "cell_type": "markdown",
   "metadata": {},
   "source": [
    " goal of this below 2 lines: since we make random weights, we cant say that our changes on parameter changes helping us, so we hold the values every time to make the results only related to our tuning parameters."
   ]
  },
  {
   "cell_type": "code",
   "execution_count": 86,
   "metadata": {},
   "outputs": [],
   "source": [
    "w1=np.copy(w1_1)\n",
    "w2=np.copy(w2_2)"
   ]
  },
  {
   "cell_type": "markdown",
   "metadata": {},
   "source": [
    "##### first we calculate the forward propagation then we copmutes the cost functions (witch is the mean squared error) and finally we calculate the back propagation."
   ]
  },
  {
   "cell_type": "code",
   "execution_count": 87,
   "metadata": {},
   "outputs": [
    {
     "name": "stdout",
     "output_type": "stream",
     "text": [
      "the prediction:\n",
      " [[4.34785108e-02 4.96289183e-01 2.70750387e-01]\n",
      " [9.91944819e-01 8.31219053e-02 2.74230270e-05]\n",
      " [8.15262955e-03 3.50716883e-01 8.20909163e-01]\n",
      " [1.31076140e-02 4.64347560e-01 6.67377283e-01]\n",
      " [1.24113309e-02 5.53355892e-01 6.53886706e-01]\n",
      " [9.76706188e-01 1.36619728e-01 1.10072629e-04]\n",
      " [9.95438206e-03 3.51917627e-01 7.79704977e-01]\n",
      " [9.94024067e-01 7.80355780e-02 1.96028446e-05]]\n",
      "\n",
      " the output:\n",
      " [[0. 1. 0.]\n",
      " [1. 0. 0.]\n",
      " [0. 0. 1.]\n",
      " [0. 0. 1.]\n",
      " [0. 0. 1.]\n",
      " [1. 0. 0.]\n",
      " [0. 0. 1.]\n",
      " [1. 0. 0.]]\n",
      "the cost is:\n",
      " 6.118390824130619\n"
     ]
    }
   ],
   "source": [
    "lis = []\n",
    "lis_test= []\n",
    "for i in range(10000):\n",
    "\n",
    "    #forward propagation\n",
    "    \n",
    "    \n",
    "    #second layer output \n",
    "    z2=np.dot(X_train,w1)+np.dot(b1,wb1)\n",
    "    a2=sigmoid(z2)\n",
    "    \n",
    "    \n",
    "    #final layer output \n",
    "\n",
    "    z3=np.dot(a2,w2)+np.dot(b2,wb2)\n",
    "    a3=sigmoid(z3)    \n",
    "    \n",
    "    \n",
    "    #Backpropagation\n",
    "    \n",
    "    cost = 0.5 * (y_train - a3)**2\n",
    "    lis.append(np.sum(cost))\n",
    "    \n",
    "    #print('Epochs',i,':',np.sum(cost))\n",
    "    #derviation of cost function\n",
    "    \n",
    "    \n",
    "    delta3 = (y_train - a3) * (der_sigmoid(a3))\n",
    "    gamma2 = np.dot(a2.T,delta3)\n",
    "    \n",
    "    delta2 = np.dot(delta3,w2.T) * (der_sigmoid(a2))\n",
    "    gamma1 = np.dot(X_train.T,delta2) \n",
    "    \n",
    "    \n",
    "    \n",
    "    \n",
    "    \n",
    "    #forward propagation test\n",
    "    \n",
    "    \n",
    "    #second layer output \n",
    "    z2_t=np.dot(X_test,w1)\n",
    "    a2_t=sigmoid(z2_t)\n",
    "    \n",
    "    \n",
    "    #final layer output \n",
    "\n",
    "    z3_t=np.dot(a2_t,w2)\n",
    "    a3_t=sigmoid(z3_t)    \n",
    "    \n",
    "    \n",
    "    #Backpropagation\n",
    "    \n",
    "    cost = 0.5 * (y_test - a3_t)**2\n",
    "    lis_test.append(np.sum(cost))\n",
    "    \n",
    "    \n",
    "    \n",
    "    #updating the weights\n",
    "\n",
    "    #learning rate\n",
    "    q=0.15\n",
    "    momen=0.1\n",
    "    \n",
    "    vel1=momen*vel1+q*(gamma1)\n",
    "    vel2=momen*vel2+q*(gamma2)\n",
    "    vel1.shape\n",
    "    #w1 += (q*(1/100)*gamma1)\n",
    "    w1= w1+(1/100)*vel1\n",
    "    #w2 += (q*(1/100)*gamma2)\n",
    "    w2= w2+(1/100)*vel2\n",
    "        \n",
    "\n",
    "\n",
    "print('the prediction:\\n',a3[:8])\n",
    "print('\\n the output:\\n',y_train[:8])\n",
    "print('the cost is:\\n',np.sum(cost))"
   ]
  },
  {
   "cell_type": "markdown",
   "metadata": {},
   "source": [
    "##### validation forward propagation."
   ]
  },
  {
   "cell_type": "code",
   "execution_count": 71,
   "metadata": {},
   "outputs": [
    {
     "name": "stdout",
     "output_type": "stream",
     "text": [
      "the prediction:\n",
      " [[9.54987014e-01 8.50678036e-02 1.25378435e-04]\n",
      " [3.88105861e-03 2.88856505e-01 7.81142682e-01]\n",
      " [9.87655611e-01 4.27816585e-02 2.42751213e-05]\n",
      " [6.11257879e-03 3.18945951e-01 6.12370899e-01]\n",
      " [3.62484243e-03 3.02551274e-01 8.01227953e-01]]\n",
      "\n",
      " the output:\n",
      " [[1. 0. 0.]\n",
      " [0. 0. 1.]\n",
      " [1. 0. 0.]\n",
      " [0. 0. 1.]\n",
      " [0. 0. 1.]]\n"
     ]
    }
   ],
   "source": [
    "#forward propagation\n",
    "    \n",
    "#second layer output with 3 neuron\n",
    "z2=np.dot(X_test,w1)\n",
    "a2=sigmoid(z2)\n",
    "    \n",
    "    \n",
    "#final layer output with 3 neuron\n",
    "\n",
    "z3=np.dot(a2,w2)\n",
    "a3=sigmoid(z3)    \n",
    "    \n",
    "\n",
    "print('the prediction:\\n',a3[:5])\n",
    "print('\\n the output:\\n',y_test[:5])"
   ]
  },
  {
   "cell_type": "markdown",
   "metadata": {},
   "source": [
    "#### since our outputs has a probable values we set them to unitary vectors such as below:"
   ]
  },
  {
   "cell_type": "code",
   "execution_count": 36,
   "metadata": {},
   "outputs": [],
   "source": [
    "from numpy import linalg as LA"
   ]
  },
  {
   "cell_type": "code",
   "execution_count": 72,
   "metadata": {},
   "outputs": [
    {
     "name": "stdout",
     "output_type": "stream",
     "text": [
      "[[1. 0. 0.]\n",
      " [0. 0. 1.]\n",
      " [1. 0. 0.]\n",
      " [0. 0. 1.]\n",
      " [0. 0. 1.]\n",
      " [0. 1. 0.]\n",
      " [0. 1. 0.]\n",
      " [1. 0. 0.]\n",
      " [1. 0. 0.]\n",
      " [0. 0. 1.]\n",
      " [0. 0. 1.]\n",
      " [0. 0. 1.]\n",
      " [0. 1. 0.]\n",
      " [1. 0. 0.]\n",
      " [0. 0. 1.]\n",
      " [1. 0. 0.]\n",
      " [1. 0. 0.]\n",
      " [0. 0. 1.]\n",
      " [0. 0. 1.]\n",
      " [1. 0. 0.]\n",
      " [0. 0. 1.]\n",
      " [1. 0. 0.]\n",
      " [0. 0. 1.]\n",
      " [0. 0. 1.]\n",
      " [1. 0. 0.]\n",
      " [0. 0. 1.]\n",
      " [1. 0. 0.]\n",
      " [0. 0. 1.]\n",
      " [1. 0. 0.]\n",
      " [0. 0. 1.]\n",
      " [0. 1. 0.]\n",
      " [0. 0. 1.]\n",
      " [0. 0. 1.]\n",
      " [1. 0. 0.]\n",
      " [0. 0. 1.]\n",
      " [0. 0. 1.]\n",
      " [0. 1. 0.]\n",
      " [1. 0. 0.]\n",
      " [0. 0. 1.]\n",
      " [0. 0. 1.]\n",
      " [1. 0. 0.]\n",
      " [1. 0. 0.]\n",
      " [0. 1. 0.]\n",
      " [0. 0. 1.]\n",
      " [0. 0. 1.]\n",
      " [0. 0. 1.]\n",
      " [0. 0. 1.]\n",
      " [0. 1. 0.]\n",
      " [0. 1. 0.]\n",
      " [0. 0. 1.]]\n"
     ]
    }
   ],
   "source": [
    "arr = np.zeros((a3.shape[0],a3.shape[1]))\n",
    "for i in range(a3.shape[0]):\n",
    "    for j in range(a3.shape[1]):\n",
    "        if LA.norm(a3[i],np.inf)==a3[i,j]:\n",
    "            arr[i,j]=1\n",
    "        else:\n",
    "            arr[i,j]=0\n",
    "            \n",
    "print(arr)\n",
    "#print(LA.norm(a4[0],np.inf))\n",
    "#print(a4[0])\n",
    "#print(a4[0,0])"
   ]
  },
  {
   "cell_type": "markdown",
   "metadata": {},
   "source": [
    "#### to calculate the accuracy:"
   ]
  },
  {
   "cell_type": "code",
   "execution_count": 38,
   "metadata": {},
   "outputs": [],
   "source": [
    "from sklearn.metrics import accuracy_score,classification_report"
   ]
  },
  {
   "cell_type": "code",
   "execution_count": 73,
   "metadata": {},
   "outputs": [
    {
     "name": "stdout",
     "output_type": "stream",
     "text": [
      "0.82\n",
      "              precision    recall  f1-score   support\n",
      "\n",
      "           0       1.00      1.00      1.00        16\n",
      "           1       1.00      0.47      0.64        17\n",
      "           2       0.65      1.00      0.79        17\n",
      "\n",
      "   micro avg       0.82      0.82      0.82        50\n",
      "   macro avg       0.88      0.82      0.81        50\n",
      "weighted avg       0.88      0.82      0.81        50\n",
      " samples avg       0.82      0.82      0.82        50\n",
      "\n"
     ]
    }
   ],
   "source": [
    "print(accuracy_score(y_test,arr))\n",
    "print(classification_report(y_test,arr))"
   ]
  },
  {
   "cell_type": "markdown",
   "metadata": {},
   "source": [
    "#### mean squared error for train set and test set:"
   ]
  },
  {
   "cell_type": "code",
   "execution_count": 88,
   "metadata": {},
   "outputs": [
    {
     "data": {
      "text/plain": [
       "<matplotlib.legend.Legend at 0xdb9e710>"
      ]
     },
     "execution_count": 88,
     "metadata": {},
     "output_type": "execute_result"
    },
    {
     "data": {
      "image/png": "[encoded data removed]",
      "text/plain": [
       "<Figure size 720x432 with 1 Axes>"
      ]
     },
     "metadata": {
      "needs_background": "light"
     },
     "output_type": "display_data"
    }
   ],
   "source": [
    "fig=plt.figure(figsize=(10,6))\n",
    "ax=fig.add_axes([0,0,1,1])\n",
    "ax.plot(range(0,10000),lis,label='MSE in train')\n",
    "ax.plot(range(0,10000),lis_test,label='MSE in test')\n",
    "ax.legend(loc=0)"
   ]
  }
 ],
 "metadata": {
  "kernelspec": {
   "display_name": "Python 3",
   "language": "python",
   "name": "python3"
  },
  "language_info": {
   "codemirror_mode": {
    "name": "ipython",
    "version": 3
   },
   "file_extension": ".py",
   "mimetype": "text/x-python",
   "name": "python",
   "nbconvert_exporter": "python",
   "pygments_lexer": "ipython3",
   "version": "3.7.3"
  }
 },
 "nbformat": 4,
 "nbformat_minor": 2
}
